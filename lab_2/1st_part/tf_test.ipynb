{
 "cells": [
  {
   "cell_type": "code",
   "execution_count": 2,
   "outputs": [
    {
     "name": "stdout",
     "output_type": "stream",
     "text": [
      "2.8.0\n"
     ]
    }
   ],
   "source": [
    "import os\n",
    "\n",
    "from tensorflow.python.keras.utils.np_utils import to_categorical\n",
    "\n",
    "os.environ['TF_CPP_MIN_LOG_LEVEL'] = '2'\n",
    "\n",
    "import tensorflow as tf\n",
    "# mnist находится внутри keras, а он уже есть в tensorflow\n",
    "from keras.datasets import mnist\n",
    "import matplotlib.pyplot as plt\n",
    "\n",
    "print(tf.__version__)"
   ],
   "metadata": {
    "collapsed": false,
    "pycharm": {
     "name": "#%%\n"
    }
   }
  },
  {
   "cell_type": "code",
   "execution_count": 3,
   "outputs": [],
   "source": [
    "# Загружаем обучающий и тестовый наборы с помощью функции load_data():\n",
    "(x_train, y_train), (x_test, y_test) = mnist.load_data()"
   ],
   "metadata": {
    "collapsed": false,
    "pycharm": {
     "name": "#%%\n"
    }
   }
  },
  {
   "cell_type": "code",
   "execution_count": 4,
   "outputs": [
    {
     "name": "stdout",
     "output_type": "stream",
     "text": [
      "В обучающей выборке образов x: 60000 целевых значений y: 60000\n",
      "В тестовой выборке образов x: 10000 целевых значений y: 10000\n"
     ]
    }
   ],
   "source": [
    "# Посмотрим, сколько загрузилось данных\n",
    "print(\"В обучающей выборке образов x:\", len(x_train), \"целевых значений y:\", len(y_train))\n",
    "print(\"В тестовой выборке образов x:\", len(x_test), \"целевых значений y:\", len(y_test))"
   ],
   "metadata": {
    "collapsed": false,
    "pycharm": {
     "name": "#%%%%%%%%%%%%%%%%%%%%%%%%%%%%%%%%%%%%%%%%%%%%%%%%%%%%%%%%%\n"
    }
   }
  },
  {
   "cell_type": "code",
   "execution_count": 5,
   "outputs": [
    {
     "name": "stdout",
     "output_type": "stream",
     "text": [
      "[[  0   0   0   0   0   0   0   0   0   0   0   0   0   0   0   0   0   0\n",
      "    0   0   0   0   0   0   0   0   0   0]\n",
      " [  0   0   0   0   0   0   0   0   0   0   0   0   0   0   0   0   0   0\n",
      "    0   0   0   0   0   0   0   0   0   0]\n",
      " [  0   0   0   0   0   0   0   0   0   0   0   0   0   0   0   0   0   0\n",
      "    0   0   0   0   0   0   0   0   0   0]\n",
      " [  0   0   0   0   0   0   0   0   0   0   0   0   0   0   0   0   0   0\n",
      "    0   0   0   0   0   0   0   0   0   0]\n",
      " [  0   0   0   0   0   0   0   0   0   0   0   0   0   0   0   0   0   0\n",
      "    0   0   0   0   0   0   0   0   0   0]\n",
      " [  0   0   0   0   0   0   0   0   0   0   0   0   0   0   0   0   0   0\n",
      "    0   0   0   0   0   0   0   0   0   0]\n",
      " [  0   0   0   0   0   0   0   0   0   0   0   0   0   0   0   0   0   0\n",
      "    0   0   0   0   0   0   0   0   0   0]\n",
      " [  0   0   0   0   0   0   0   0  57 241 196  60   0   0   6  18  18  79\n",
      "  150 255 254 216  27   0   0   0   0   0]\n",
      " [  0   0   0   0   0   0   0  10 158 253 253 197 154 154 184 253 253 253\n",
      "  253 253 253 253 152   0   0   0   0   0]\n",
      " [  0   0   0   0   0   0  37 164 253 253 253 253 253 253 253 253 253 228\n",
      "  253 253 253 236  66   0   0   0   0   0]\n",
      " [  0   0   0   0  14 189 233 253 253 253 253 247 182 100  65  65  65  38\n",
      "  204 253 253 170   0   0   0   0   0   0]\n",
      " [  0   0   0   0  18 253 253 253 181  60  47  42   0   0   0   0   0 150\n",
      "  253 253 230  56   0   0   0   0   0   0]\n",
      " [  0   0   0   0   2  29  29  29   6   0   0   0   0   0   0   0 149 253\n",
      "  253 253  84   0   0   0   0   0   0   0]\n",
      " [  0   0   0   0   0   0   0   0   0   0   0   0   0   0   0   3 231 253\n",
      "  253 148   3   0   0   0   0   0   0   0]\n",
      " [  0   0   0   0   0   0   0   0   0   0   0   0   0   0   8 165 253 253\n",
      "  213   0   0   0   0   0   0   0   0   0]\n",
      " [  0   0   0   0   0   0   0   0   0   0   0   0   0   0  97 253 253 251\n",
      "   89   0   0   0   0   0   0   0   0   0]\n",
      " [  0   0   0   0   0   0   0   0   0   0   0   0   0  70 236 253 253 158\n",
      "    0   0   0   0   0   0   0   0   0   0]\n",
      " [  0   0   0   0   0   0   0   0   0   0   0   0  13 200 253 253 219  31\n",
      "    0   0   0   0   0   0   0   0   0   0]\n",
      " [  0   0   0   0   0   0   0   0   0   0   0   9 176 253 253 253  42   0\n",
      "    0   0   0   0   0   0   0   0   0   0]\n",
      " [  0   0   0   0   0   0   0   0   0   0   0  77 253 253 219  97   3   0\n",
      "    0   0   0   0   0   0   0   0   0   0]\n",
      " [  0   0   0   0   0   0   0   0   0   0 123 251 253 251 114   0   0   0\n",
      "    0   0   0   0   0   0   0   0   0   0]\n",
      " [  0   0   0   0   0   0   0   0   0  13 195 253 253 126   0   0   0   0\n",
      "    0   0   0   0   0   0   0   0   0   0]\n",
      " [  0   0   0   0   0   0   0   0   0 184 253 253 204  27   0   0   0   0\n",
      "    0   0   0   0   0   0   0   0   0   0]\n",
      " [  0   0   0   0   0   0   0   0   0 225 253 236  26   0   0   0   0   0\n",
      "    0   0   0   0   0   0   0   0   0   0]\n",
      " [  0   0   0   0   0   0   0   0  30 234 253 191   0   0   0   0   0   0\n",
      "    0   0   0   0   0   0   0   0   0   0]\n",
      " [  0   0   0   0   0   0   0   0  89 253 253 112   0   0   0   0   0   0\n",
      "    0   0   0   0   0   0   0   0   0   0]\n",
      " [  0   0   0   0   0   0   0   0   6 227 251  60   0   0   0   0   0   0\n",
      "    0   0   0   0   0   0   0   0   0   0]\n",
      " [  0   0   0   0   0   0   0   0   0   0   0   0   0   0   0   0   0   0\n",
      "    0   0   0   0   0   0   0   0   0   0]]\n"
     ]
    },
    {
     "data": {
      "text/plain": "<Figure size 432x288 with 1 Axes>",
      "image/png": "[encoded data removed]"
     },
     "metadata": {
      "needs_background": "light"
     },
     "output_type": "display_data"
    }
   ],
   "source": [
    "# Посмотрим, что внутри обучающих данных:\n",
    "n1 = 5555  # выбрали номер от 0 до 60000\n",
    "plt.imshow((255 - x_train[n1]), cmap=\"gray\")\n",
    "print(x_train[n1])"
   ],
   "metadata": {
    "collapsed": false,
    "pycharm": {
     "name": "#%%%%%%%%%%%%%%%%%%%%%%%%%%%%%%%%%%%%%%%%%%%%%%%%%%%%%%%%%\n"
    }
   }
  },
  {
   "cell_type": "code",
   "execution_count": 6,
   "outputs": [
    {
     "name": "stdout",
     "output_type": "stream",
     "text": [
      "Размер обучающих данных:  [60000    28    28]\n"
     ]
    }
   ],
   "source": [
    "# приводим оттенки серого 0..255 к диапазону 0..1\n",
    "x_train = x_train / 255\n",
    "x_test = x_test / 255\n",
    "print(\"Размер обучающих данных: \", tf.shape(x_train).numpy())"
   ],
   "metadata": {
    "collapsed": false,
    "pycharm": {
     "name": "#%%%%%%%%%%%%%%%%%%%%%%%%%%%%%%%%%%%%%%%%%%%%%%%%%%%%%%%%%\n"
    }
   }
  },
  {
   "cell_type": "code",
   "execution_count": 7,
   "outputs": [
    {
     "name": "stdout",
     "output_type": "stream",
     "text": [
      "Новый размер:  [60000   784]\n"
     ]
    }
   ],
   "source": [
    "# выпрямляем массив, чтобы он сих квадратного превратился в линейный\n",
    "# [-1, 28*28]  означает что, матрица 28 на 28 выпрямляется в массив размером\n",
    "# 28*28 штук, а перзмерность по первой оси, где стоит -1 вычисляется\n",
    "# автоматически\n",
    "x_train = tf.reshape(tf.cast(x_train, tf.float32), [-1, 28 * 28])\n",
    "x_test = tf.reshape(tf.cast(x_test, tf.float32), [-1, 28 * 28])\n",
    "print(\"Новый размер: \", tf.shape(x_train).numpy())"
   ],
   "metadata": {
    "collapsed": false,
    "pycharm": {
     "name": "#%%%%%%%%%%%%%%%%%%%%%%%%%%%%%%%%%%%%%%%%%%%%%%%%%%%%%%%%%\n"
    }
   }
  },
  {
   "cell_type": "code",
   "execution_count": 8,
   "outputs": [
    {
     "name": "stdout",
     "output_type": "stream",
     "text": [
      "Целевое значение до преобразования: 7\n"
     ]
    }
   ],
   "source": [
    "# переделываем целевые значения\n",
    "# y_train[i] -- это цифра, подлежащая различению, например 3\n",
    "# Превратим её в массив [0 0 0 1 0 0 0 0 0 0]\n",
    "# здесь 1 стоит на 3 месте. Это и есть целевые выходы\n",
    "# нейронов последнего слоя, чтобы именно нейрон с номером 3\n",
    "# откликался на изображение цифры 3\n",
    "# Для такого преобразования есть специальная функция  to_categorical\n",
    "# Такой формат называется вектор One-hot\n",
    "print(\"Целевое значение до преобразования:\", y_train[n1])"
   ],
   "metadata": {
    "collapsed": false,
    "pycharm": {
     "name": "#%%%%%%%%%%%%%%%%%%%%%%%%%%%%%%%%%%%%%%%%%%%%%%%%%%%%%%%%%\n"
    }
   }
  },
  {
   "cell_type": "code",
   "execution_count": 9,
   "outputs": [],
   "source": [
    "y_train = to_categorical(y_train, 10)"
   ],
   "metadata": {
    "collapsed": false,
    "pycharm": {
     "name": "#%%%%%%%%%%%%%%%%%%%%%%%%%%%%%%%%%%%%%%%%%%%%%%%%%%%%%%%%%\n"
    }
   }
  },
  {
   "cell_type": "code",
   "execution_count": 10,
   "outputs": [
    {
     "name": "stdout",
     "output_type": "stream",
     "text": [
      "Целевое значение после преобразования: [0. 0. 0. 0. 0. 0. 0. 1. 0. 0.]\n"
     ]
    }
   ],
   "source": [
    "print(\"Целевое значение после преобразования:\", y_train[n1])\n"
   ],
   "metadata": {
    "collapsed": false,
    "pycharm": {
     "name": "#%%%%%%%%%%%%%%%%%%%%%%%%%%%%%%%%%%%%%%%%%%%%%%%%%%%%%%%%%\n"
    }
   }
  },
  {
   "cell_type": "code",
   "execution_count": 11,
   "outputs": [],
   "source": [
    "# Создаём модель слоя\n",
    "class DenseNN(tf.Module):\n",
    "    # Конструктор. Заполняет начальные значения\n",
    "    def __init__(self, outputs, activate=\"relu\"):\n",
    "        super().__init__()\n",
    "        self.outputs = outputs  # количество выходов = количеству нейронов в слое\n",
    "        self.activate = activate  # тип активационной функции (по умолчанию relu)\n",
    "        self.fl_init = False  # становится true после первой инициализации весов\n",
    "\n",
    "    # Функция для расчёта выходных величин сети\n",
    "    def __call__(self, x):\n",
    "        if not self.fl_init:  # если весов ещё нет, создаём их случайными\n",
    "            self.w = tf.random.truncated_normal((x.shape[-1], self.outputs), stddev=0.1, name=\"w\")\n",
    "            self.b = tf.zeros([self.outputs], dtype=tf.float32, name=\"b\")\n",
    "            # Размер тензора w: (x.shape[-1], self.outputs)\n",
    "            # здесь x.shape[-1] - размер вектора входных данных,\n",
    "            # то есть, сколько входов в первый раз подпдим на сеть,\n",
    "            # столько весов к каждому нейрону и сформируется\n",
    "            # следовательно, первый индекс - номер входа нейрона\n",
    "            # второй размер self.outputs совпадает с кличеством выходов\n",
    "            # и с количествот нейронов в слое, значит второй\n",
    "            # индекс - номер нейрона\n",
    "            # stddev=0.1 - среднеквадратическое отклонение\n",
    "\n",
    "            # преобразуем w и b в тензоры\n",
    "            self.w = tf.Variable(self.w)\n",
    "            self.b = tf.Variable(self.b)\n",
    "\n",
    "            self.fl_init = True\n",
    "        # матричное вычисление выхода слоя\n",
    "        y = x @ self.w + self.b\n",
    "\n",
    "        if self.activate == \"relu\":\n",
    "            return tf.nn.relu(y)\n",
    "        elif self.activate == \"softmax\":\n",
    "            return tf.nn.softmax(y)\n",
    "\n",
    "        return y\n"
   ],
   "metadata": {
    "collapsed": false,
    "pycharm": {
     "name": "#%%%%%%%%%%%%%%%%%%%%%%%%%%%%%%%%%%%%%%%%%%%%%%%%%%%%%%%%%\n"
    }
   }
  },
  {
   "cell_type": "code",
   "execution_count": 12,
   "outputs": [],
   "source": [
    "# создадим два полносвязных слоя со 128 нейронами и 10\n",
    "layer_1 = DenseNN(128)\n",
    "layer_2 = DenseNN(10, activate=\"softmax\")\n"
   ],
   "metadata": {
    "collapsed": false,
    "pycharm": {
     "name": "#%%%%%%%%%%%%%%%%%%%%%%%%%%%%%%%%%%%%%%%%%%%%%%%%%%%%%%%%%\n"
    }
   }
  },
  {
   "cell_type": "code",
   "execution_count": 13,
   "outputs": [],
   "source": [
    "# Функция расчёта значений на выходе сети\n",
    "def model_predict(x):\n",
    "    y = layer_1(x)\n",
    "    y = layer_2(y)\n",
    "    return y  # layer_2(layer_1(x))\n"
   ],
   "metadata": {
    "collapsed": false,
    "pycharm": {
     "name": "#%%%%%%%%%%%%%%%%%%%%%%%%%%%%%%%%%%%%%%%%%%%%%%%%%%%%%%%%%\n"
    }
   }
  },
  {
   "cell_type": "code",
   "execution_count": 14,
   "outputs": [],
   "source": [
    "# Задание функции потерь\n",
    "cross_entropy = lambda y_true, y_pred: tf.reduce_mean(tf.losses.categorical_crossentropy(y_true, y_pred))\n",
    "# y_true, y_pred – это наборы one-hot векторов размером мини-батча\n"
   ],
   "metadata": {
    "collapsed": false,
    "pycharm": {
     "name": "#%%%%%%%%%%%%%%%%%%%%%%%%%%%%%%%%%%%%%%%%%%%%%%%%%%%%%%%%%\n"
    }
   }
  },
  {
   "cell_type": "code",
   "execution_count": 15,
   "outputs": [],
   "source": [
    "# определим оптимизатор для градиентного спуска\n",
    "opt = tf.optimizers.Adam(learning_rate=0.001)\n",
    "# opt = tf.optimizers.SGD(learning_rate=0.02)\n",
    "# opt = tf.optimizers.SGD(momentum=0.5, learning_rate=0.02)  # Метод моментов\n",
    "# opt = tf.optimizers.SGD(momentum=0.5, nesterov=True, learning_rate=0.02) # Метод Нестерова\n",
    "# opt = tf.optimizers.Adagrad(learning_rate=0.1) # Adagrad\n",
    "# opt = tf.optimizers.Adadelta(learning_rate=1.0)  # Adadelta\n",
    "# opt = tf.optimizers.RMSprop(learning_rate=0.01)\n",
    "# opt = tf.optimizers.Adam(learning_rate=0.1)"
   ],
   "metadata": {
    "collapsed": false,
    "pycharm": {
     "name": "#%%%%%%%%%%%%%%%%%%%%%%%%%%%%%%%%%%%%%%%%%%%%%%%%%%%%%%%%%\n"
    }
   }
  },
  {
   "cell_type": "code",
   "execution_count": 16,
   "outputs": [
    {
     "name": "stdout",
     "output_type": "stream",
     "text": [
      "60000\n"
     ]
    }
   ],
   "source": [
    "# Готовим обучение\n",
    "BATCH_SIZE = 32\n",
    "EPOCHS = 10\n",
    "TOTAL = x_train.shape[0]\n",
    "print(TOTAL)  # Количество штук в обучающей выборке"
   ],
   "metadata": {
    "collapsed": false,
    "pycharm": {
     "name": "#%%%%%%%%%%%%%%%%%%%%%%%%%%%%%%%%%%%%%%%%%%%%%%%%%%%%%%%%%\n"
    }
   }
  },
  {
   "cell_type": "code",
   "execution_count": 17,
   "outputs": [],
   "source": [
    "# tf.data.Dataset - это класс с набором обучающих данных.\n",
    "# Его можно создать из списков питона методом from_tensor_slices\n",
    "# можно из файлов dataset = tf.data.TextLineDataset([\"file1.txt\", \"file2.txt\"])\n",
    "# подробнее https://www.tensorflow.org/api_docs/python/tf/data/Dataset\n",
    "train_dataset = tf.data.Dataset.from_tensor_slices((x_train, y_train))\n",
    "# Перемешиваем выборкии разбиваеи на батчи\n",
    "train_dataset = train_dataset.shuffle(buffer_size=1024).batch(BATCH_SIZE)"
   ],
   "metadata": {
    "collapsed": false,
    "pycharm": {
     "name": "#%%%%%%%%%%%%%%%%%%%%%%%%%%%%%%%%%%%%%%%%%%%%%%%%%%%%%%%%%\n"
    }
   }
  },
  {
   "cell_type": "code",
   "execution_count": 18,
   "outputs": [
    {
     "name": "stdout",
     "output_type": "stream",
     "text": [
      "<BatchDataset element_spec=(TensorSpec(shape=(None, 784), dtype=tf.float32, name=None), TensorSpec(shape=(None, 10), dtype=tf.float32, name=None))>\n"
     ]
    }
   ],
   "source": [
    "print(train_dataset)"
   ],
   "metadata": {
    "collapsed": false,
    "pycharm": {
     "name": "#%%%%%%%%%%%%%%%%%%%%%%%%%%%%%%%%%%%%%%%%%%%%%%%%%%%%%%%%%\n"
    }
   }
  },
  {
   "cell_type": "code",
   "execution_count": 19,
   "outputs": [
    {
     "name": "stdout",
     "output_type": "stream",
     "text": [
      "462.75034\n",
      "194.3775\n",
      "134.64606\n",
      "100.473114\n",
      "75.28524\n",
      "60.186634\n",
      "45.200104\n",
      "35.932014\n",
      "27.658915\n",
      "23.74391\n"
     ]
    }
   ],
   "source": [
    "# Цикл обучения\n",
    "for n in range(EPOCHS):\n",
    "    loss = 0\n",
    "    for x_batch, y_batch in train_dataset:\n",
    "        with tf.GradientTape() as tape:\n",
    "            f_loss = cross_entropy(y_batch, model_predict(x_batch))\n",
    "\n",
    "        loss += f_loss\n",
    "        grads = tape.gradient(f_loss, [layer_1.trainable_variables, layer_2.trainable_variables])\n",
    "        opt.apply_gradients(zip(grads[0], layer_1.trainable_variables))\n",
    "        opt.apply_gradients(zip(grads[1], layer_2.trainable_variables))\n",
    "\n",
    "    print(loss.numpy())"
   ],
   "metadata": {
    "collapsed": false,
    "pycharm": {
     "name": "#%%%%%%%%%%%%%%%%%%%%%%%%%%%%%%%%%%%%%%%%%%%%%%%%%%%%%%%%%\n"
    }
   }
  },
  {
   "cell_type": "code",
   "execution_count": 20,
   "outputs": [
    {
     "name": "stdout",
     "output_type": "stream",
     "text": [
      "97.72\n"
     ]
    }
   ],
   "source": [
    "y = model_predict(x_test)\n",
    "y2 = tf.argmax(y, axis=1).numpy()\n",
    "acc = len(y_test[y_test == y2]) / y_test.shape[0] * 100\n",
    "print(acc)"
   ],
   "metadata": {
    "collapsed": false,
    "pycharm": {
     "name": "#%%%%%%%%%%%%%%%%%%%%%%%%%%%%%%%%%%%%%%%%%%%%%%%%%%%%%%%%%\n"
    }
   }
  },
  {
   "cell_type": "code",
   "execution_count": null,
   "outputs": [],
   "source": [],
   "metadata": {
    "collapsed": false,
    "pycharm": {
     "name": "#%%\n"
    }
   }
  }
 ],
 "metadata": {
  "kernelspec": {
   "display_name": "Python 3",
   "language": "python",
   "name": "python3"
  },
  "language_info": {
   "codemirror_mode": {
    "name": "ipython",
    "version": 2
   },
   "file_extension": ".py",
   "mimetype": "text/x-python",
   "name": "python",
   "nbconvert_exporter": "python",
   "pygments_lexer": "ipython2",
   "version": "2.7.6"
  }
 },
 "nbformat": 4,
 "nbformat_minor": 0
}