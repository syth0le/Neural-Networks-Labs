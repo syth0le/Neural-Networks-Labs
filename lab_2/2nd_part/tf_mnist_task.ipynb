{
 "cells": [
  {
   "cell_type": "code",
   "execution_count": 350,
   "outputs": [
    {
     "name": "stdout",
     "output_type": "stream",
     "text": [
      "2.8.0\n"
     ]
    }
   ],
   "source": [
    "import os\n",
    "\n",
    "from tensorflow.python.keras.utils.np_utils import to_categorical\n",
    "\n",
    "os.environ['TF_CPP_MIN_LOG_LEVEL'] = '2'\n",
    "\n",
    "import tensorflow as tf\n",
    "print(tf.__version__)"
   ],
   "metadata": {
    "collapsed": false,
    "pycharm": {
     "name": "#%%\n"
    }
   }
  },
  {
   "cell_type": "code",
   "execution_count": 351,
   "outputs": [],
   "source": [
    "\"\"\"Initialization of data generator\"\"\"\n",
    "from data_generator import DataGenerator\n",
    "generator = DataGenerator(test_data=100, train_data=300)"
   ],
   "metadata": {
    "collapsed": false,
    "pycharm": {
     "name": "#%%\n"
    }
   }
  },
  {
   "cell_type": "code",
   "execution_count": 355,
   "outputs": [],
   "source": [
    "\"\"\"Get train data\"\"\"\n",
    "generator.generate_train_data()\n",
    "train_data = generator.get_train_data()"
   ],
   "metadata": {
    "collapsed": false,
    "pycharm": {
     "name": "#%%\n"
    }
   }
  },
  {
   "cell_type": "code",
   "execution_count": 356,
   "outputs": [],
   "source": [
    "\"\"\"Get test data\"\"\"\n",
    "generator.generate_test_data()\n",
    "test_data = generator.get_test_data()"
   ],
   "metadata": {
    "collapsed": false,
    "pycharm": {
     "name": "#%%\n"
    }
   }
  },
  {
   "cell_type": "code",
   "execution_count": 357,
   "outputs": [
    {
     "name": "stdout",
     "output_type": "stream",
     "text": [
      "Train: 300, Test: 100\n",
      "Train ex.: RepresentedData(number=3, data=[0, 1, 1, 1, 0, 1, 0, 0, 1, 1, 0, 0, 1, 1, 0, 0, 1, 1, 0, 1, 0, 0, 0, 1, 0, 0, 0, 1, 0, 1, 0, 0, 1, 1, 0])\n",
      "Test ex.: RepresentedData(number=0, data=[0, 1, 0, 1, 0, 0, 1, 1, 0, 0, 0, 0, 1, 1, 1, 0, 0, 0, 1, 1, 0, 0, 1, 1, 1, 1, 1, 1, 0, 1, 1, 1, 0, 1, 1])\n"
     ]
    }
   ],
   "source": [
    "\"\"\"Get shapes and examples of generated data\"\"\"\n",
    "print(f'Train: {len(train_data)}, Test: {len(test_data)}')\n",
    "print(f'Train ex.: {train_data[13]}')\n",
    "print(f'Test ex.: {test_data[50]}')"
   ],
   "metadata": {
    "collapsed": false,
    "pycharm": {
     "name": "#%%\n"
    }
   }
  },
  {
   "cell_type": "code",
   "execution_count": 358,
   "outputs": [
    {
     "name": "stdout",
     "output_type": "stream",
     "text": [
      "131\n"
     ]
    }
   ],
   "source": [
    "import random\n",
    "n1 = random.randint(0, len(train_data) - 1)\n",
    "print(n1)"
   ],
   "metadata": {
    "collapsed": false,
    "pycharm": {
     "name": "#%%\n"
    }
   }
  },
  {
   "cell_type": "code",
   "execution_count": 359,
   "outputs": [
    {
     "name": "stdout",
     "output_type": "stream",
     "text": [
      "Целевое значение до преобразования: 1\n"
     ]
    }
   ],
   "source": [
    "# переделываем целевые значения\n",
    "# y_train[i] -- это цифра, подлежащая различению, например 3\n",
    "# Превратим её в массив [0 0 0 1 0 0 0 0 0 0]\n",
    "# здесь 1 стоит на 3 месте. Это и есть целевые выходы\n",
    "# нейронов последнего слоя, чтобы именно нейрон с номером 3\n",
    "# откликался на изображение цифры 3\n",
    "# Для такого преобразования есть специальная функция  to_categorical\n",
    "# Такой формат называется вектор One-hot\n",
    "print(\"Целевое значение до преобразования:\", train_data[n1].number)"
   ],
   "metadata": {
    "collapsed": false,
    "pycharm": {
     "name": "#%%\n"
    }
   }
  },
  {
   "cell_type": "code",
   "execution_count": 360,
   "outputs": [],
   "source": [
    "example_y = to_categorical(train_data[n1].number, 10)"
   ],
   "metadata": {
    "collapsed": false,
    "pycharm": {
     "name": "#%%\n"
    }
   }
  },
  {
   "cell_type": "code",
   "execution_count": 361,
   "outputs": [
    {
     "name": "stdout",
     "output_type": "stream",
     "text": [
      "Целевое значение после преобразования: [0. 1. 0. 0. 0. 0. 0. 0. 0. 0.]\n"
     ]
    }
   ],
   "source": [
    "print(\"Целевое значение после преобразования:\", example_y)\n"
   ],
   "metadata": {
    "collapsed": false,
    "pycharm": {
     "name": "#%%\n"
    }
   }
  },
  {
   "cell_type": "code",
   "execution_count": 362,
   "outputs": [],
   "source": [
    "# Создаём модель слоя\n",
    "class DenseNN(tf.Module):\n",
    "    # Конструктор. Заполняет начальные значения\n",
    "    def __init__(self, outputs, activate=\"relu\"):\n",
    "        super().__init__()\n",
    "        self.outputs = outputs  # количество выходов = количеству нейронов в слое\n",
    "        self.activate = activate  # тип активационной функции (по умолчанию relu)\n",
    "        self.fl_init = False  # становится true после первой инициализации весов\n",
    "\n",
    "    # Функция для расчёта выходных величин сети\n",
    "    def __call__(self, x):\n",
    "        if not self.fl_init:  # если весов ещё нет, создаём их случайными\n",
    "            self.w = tf.random.truncated_normal((x.shape[-1], self.outputs), stddev=0.1, name=\"w\")\n",
    "            self.b = tf.zeros([self.outputs], dtype=tf.float32, name=\"b\")\n",
    "            \"\"\"Размер тензора w: (x.shape[-1], self.outputs)\n",
    "            здесь x.shape[-1] - размер вектора входных данных,\n",
    "            то есть, сколько входов в первый раз подадим на сеть,\n",
    "            столько весов к каждому нейрону и сформируется\n",
    "            следовательно, первый индекс - номер входа нейрона\n",
    "            второй размер self.outputs совпадает с количеством выходов\n",
    "            и с количеством нейронов в слое, значит второй\n",
    "            индекс - номер нейрона\n",
    "            stddev=0.1 - среднеквадратическое отклонение\"\"\"\n",
    "\n",
    "            # преобразуем w и b в тензоры\n",
    "            self.w = tf.Variable(self.w)\n",
    "            self.b = tf.Variable(self.b)\n",
    "\n",
    "            self.fl_init = True\n",
    "        # матричное вычисление выхода слоя\n",
    "        y = x @ self.w + self.b\n",
    "\n",
    "        if self.activate == \"relu\":\n",
    "            return tf.nn.relu(y)\n",
    "        elif self.activate == \"softmax\":\n",
    "            return tf.nn.softmax(y)\n",
    "\n",
    "        return y\n"
   ],
   "metadata": {
    "collapsed": false,
    "pycharm": {
     "name": "#%%\n"
    }
   }
  },
  {
   "cell_type": "code",
   "execution_count": 363,
   "outputs": [],
   "source": [
    "# создадим два полносвязных слоя со 128 нейронами и 10\n",
    "layer_1 = DenseNN(128)\n",
    "layer_2 = DenseNN(10, activate=\"softmax\")\n"
   ],
   "metadata": {
    "collapsed": false,
    "pycharm": {
     "name": "#%%\n"
    }
   }
  },
  {
   "cell_type": "code",
   "execution_count": 364,
   "outputs": [],
   "source": [
    "# Функция расчёта значений на выходе сети\n",
    "def model_predict(x):\n",
    "    y = layer_1(x)\n",
    "    y = layer_2(y)\n",
    "    return y  # layer_2(layer_1(x))\n"
   ],
   "metadata": {
    "collapsed": false,
    "pycharm": {
     "name": "#%%\n"
    }
   }
  },
  {
   "cell_type": "code",
   "execution_count": 365,
   "outputs": [],
   "source": [
    "# Задание функции потерь\n",
    "cross_entropy = lambda y_true, y_pred: tf.reduce_mean(tf.losses.categorical_crossentropy(y_true, y_pred))\n",
    "# y_true, y_pred – это наборы one-hot векторов размером мини-батча\n"
   ],
   "metadata": {
    "collapsed": false,
    "pycharm": {
     "name": "#%%\n"
    }
   }
  },
  {
   "cell_type": "code",
   "execution_count": 366,
   "outputs": [],
   "source": [
    "# определим оптимизатор для градиентного спуска\n",
    "opt = tf.optimizers.Adam(learning_rate=0.001)"
   ],
   "metadata": {
    "collapsed": false,
    "pycharm": {
     "name": "#%%\n"
    }
   }
  },
  {
   "cell_type": "code",
   "execution_count": 367,
   "outputs": [
    {
     "name": "stdout",
     "output_type": "stream",
     "text": [
      "Data amount in training set: 300\n"
     ]
    }
   ],
   "source": [
    "# Готовим обучение\n",
    "BATCH_SIZE = 32\n",
    "EPOCHS = 20\n",
    "TOTAL = len(train_data)\n",
    "print(f'Data amount in training set: {TOTAL}')"
   ],
   "metadata": {
    "collapsed": false,
    "pycharm": {
     "name": "#%%\n"
    }
   }
  },
  {
   "cell_type": "code",
   "execution_count": 369,
   "outputs": [
    {
     "name": "stdout",
     "output_type": "stream",
     "text": [
      "100\n"
     ]
    }
   ],
   "source": [
    "from dataclasses import astuple\n",
    "\n",
    "test_divided = list(zip(*[astuple(elem) for elem in test_data]))\n",
    "x_test = test_divided[1]\n",
    "y_test = test_divided[0]\n",
    "print(len(y_test))"
   ],
   "metadata": {
    "collapsed": false,
    "pycharm": {
     "name": "#%%\n"
    }
   }
  },
  {
   "cell_type": "code",
   "execution_count": 370,
   "outputs": [
    {
     "name": "stdout",
     "output_type": "stream",
     "text": [
      "300\n"
     ]
    }
   ],
   "source": [
    "train_divided = list(zip(*[astuple(elem) for elem in train_data]))\n",
    "x_train = train_divided[1]\n",
    "y_train = train_divided[0]\n",
    "print(len(y_train))"
   ],
   "metadata": {
    "collapsed": false,
    "pycharm": {
     "name": "#%%\n"
    }
   }
  },
  {
   "cell_type": "code",
   "execution_count": 371,
   "outputs": [],
   "source": [
    "# y_train"
   ],
   "metadata": {
    "collapsed": false,
    "pycharm": {
     "name": "#%%\n"
    }
   }
  },
  {
   "cell_type": "code",
   "execution_count": 372,
   "outputs": [
    {
     "name": "stdout",
     "output_type": "stream",
     "text": [
      "300 300\n"
     ]
    }
   ],
   "source": [
    "y_temp_train = to_categorical(y_train, 10)\n",
    "y_temp_test = to_categorical(y_test, 10)\n",
    "print(len(x_train), len(y_temp_train))"
   ],
   "metadata": {
    "collapsed": false,
    "pycharm": {
     "name": "#%%\n"
    }
   }
  },
  {
   "cell_type": "code",
   "execution_count": 373,
   "outputs": [
    {
     "name": "stdout",
     "output_type": "stream",
     "text": [
      "300 300\n"
     ]
    }
   ],
   "source": [
    "x_train = tf.reshape(tf.cast(x_train, tf.float32), [300, -1])\n",
    "x_test = tf.reshape(tf.cast(x_test, tf.float32), [100, -1])\n",
    "# print(\"Новый размер: \", tf.shape(x_train).numpy())\n",
    "# tf.data.Dataset - это класс с набором обучающих данных.\n",
    "# Его можно создать из списков питона методом from_tensor_slices\n",
    "# можно из файлов dataset = tf.data.TextLineDataset([\"file1.txt\", \"file2.txt\"])\n",
    "# подробнее https://www.tensorflow.org/api_docs/python/tf/data/Dataset\n",
    "print(len(x_train), len(y_train))\n",
    "train_dataset = tf.data.Dataset.from_tensor_slices((list(x_train), list(y_temp_train)))\n",
    "# [print(i) for i in train_dataset]\n",
    "# Перемешиваем выборки и разбиваем на батчи\n",
    "train_dataset = train_dataset.shuffle(buffer_size=1024).batch(BATCH_SIZE)"
   ],
   "metadata": {
    "collapsed": false,
    "pycharm": {
     "name": "#%%\n"
    }
   }
  },
  {
   "cell_type": "code",
   "execution_count": 374,
   "outputs": [],
   "source": [
    "# for x_batch, y_batch in train_dataset:\n",
    "#     print(x_batch, y_batch)"
   ],
   "metadata": {
    "collapsed": false,
    "pycharm": {
     "name": "#%%\n"
    }
   }
  },
  {
   "cell_type": "code",
   "execution_count": 375,
   "outputs": [
    {
     "name": "stdout",
     "output_type": "stream",
     "text": [
      "Loss by epochs: 21.0655517578125\n",
      "Loss by epochs: 17.094057083129883\n",
      "Loss by epochs: 12.68157958984375\n",
      "Loss by epochs: 8.395806312561035\n",
      "Loss by epochs: 5.001482963562012\n",
      "Loss by epochs: 2.82195782661438\n",
      "Loss by epochs: 1.6064165830612183\n",
      "Loss by epochs: 0.9854227304458618\n",
      "Loss by epochs: 0.6622207164764404\n",
      "Loss by epochs: 0.4826820492744446\n",
      "Loss by epochs: 0.37018537521362305\n",
      "Loss by epochs: 0.3013482093811035\n",
      "Loss by epochs: 0.2493566870689392\n",
      "Loss by epochs: 0.21278265118598938\n",
      "Loss by epochs: 0.18484452366828918\n",
      "Loss by epochs: 0.16170856356620789\n",
      "Loss by epochs: 0.14332939684391022\n",
      "Loss by epochs: 0.12853722274303436\n",
      "Loss by epochs: 0.11482445895671844\n",
      "Loss by epochs: 0.1047537624835968\n"
     ]
    }
   ],
   "source": [
    "# Цикл обучения\n",
    "for n in range(EPOCHS):\n",
    "    loss = 0\n",
    "    for x_batch, y_batch in train_dataset:\n",
    "        with tf.GradientTape() as tape:\n",
    "            f_loss = cross_entropy(y_batch, model_predict(x_batch))\n",
    "\n",
    "        loss += f_loss\n",
    "        grads = tape.gradient(f_loss, [layer_1.trainable_variables, layer_2.trainable_variables])\n",
    "        opt.apply_gradients(zip(grads[0], layer_1.trainable_variables))\n",
    "        opt.apply_gradients(zip(grads[1], layer_2.trainable_variables))\n",
    "\n",
    "    print(f'Loss by epochs: {loss.numpy()}')"
   ],
   "metadata": {
    "collapsed": false,
    "pycharm": {
     "name": "#%%\n"
    }
   }
  },
  {
   "cell_type": "code",
   "execution_count": 376,
   "outputs": [],
   "source": [
    "y = model_predict(x_test)\n",
    "y2 = tf.argmax(y, axis=1).numpy()"
   ],
   "metadata": {
    "collapsed": false,
    "pycharm": {
     "name": "#%%\n"
    }
   }
  },
  {
   "cell_type": "code",
   "execution_count": 378,
   "outputs": [
    {
     "name": "stdout",
     "output_type": "stream",
     "text": [
      "Summary accuracy: 60.0\n"
     ]
    }
   ],
   "source": [
    "# print(y2, y_temp_test)\n",
    "acc = len(y_temp_test[y_test == y2]) / len(y_temp_test) * 100\n",
    "print(f'Summary accuracy: {acc}')"
   ],
   "metadata": {
    "collapsed": false,
    "pycharm": {
     "name": "#%%\n"
    }
   }
  },
  {
   "cell_type": "code",
   "execution_count": 378,
   "outputs": [],
   "source": [],
   "metadata": {
    "collapsed": false,
    "pycharm": {
     "name": "#%%\n"
    }
   }
  },
  {
   "cell_type": "code",
   "execution_count": null,
   "outputs": [],
   "source": [],
   "metadata": {
    "collapsed": false,
    "pycharm": {
     "name": "#%%\n"
    }
   }
  }
 ],
 "metadata": {
  "kernelspec": {
   "display_name": "Python 3",
   "language": "python",
   "name": "python3"
  },
  "language_info": {
   "codemirror_mode": {
    "name": "ipython",
    "version": 2
   },
   "file_extension": ".py",
   "mimetype": "text/x-python",
   "name": "python",
   "nbconvert_exporter": "python",
   "pygments_lexer": "ipython2",
   "version": "2.7.6"
  }
 },
 "nbformat": 4,
 "nbformat_minor": 0
}