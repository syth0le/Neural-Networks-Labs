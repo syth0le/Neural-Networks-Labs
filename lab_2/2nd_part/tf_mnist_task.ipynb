{
 "cells": [
  {
   "cell_type": "code",
   "execution_count": 10,
   "outputs": [
    {
     "name": "stdout",
     "output_type": "stream",
     "text": [
      "2.8.0\n"
     ]
    }
   ],
   "source": [
    "import os\n",
    "\n",
    "from tensorflow.python.keras.utils.np_utils import to_categorical\n",
    "\n",
    "os.environ['TF_CPP_MIN_LOG_LEVEL'] = '2'\n",
    "\n",
    "import tensorflow as tf\n",
    "from keras.datasets import mnist\n",
    "import matplotlib.pyplot as plt\n",
    "from data_generator import DataGenerator\n",
    "print(tf.__version__)"
   ],
   "metadata": {
    "collapsed": false,
    "pycharm": {
     "name": "#%%\n"
    }
   }
  },
  {
   "cell_type": "code",
   "execution_count": 11,
   "outputs": [],
   "source": [
    "# Загружаем обучающий и тестовый наборы с помощью функции load_data():\n",
    "(x_train, y_train), (x_test, y_test) = mnist.load_data()"
   ],
   "metadata": {
    "collapsed": false,
    "pycharm": {
     "name": "#%%\n"
    }
   }
  },
  {
   "cell_type": "code",
   "execution_count": 17,
   "outputs": [
    {
     "name": "stdout",
     "output_type": "stream",
     "text": [
      "dict_keys(['0', '1', '2', '3', '4', '5', '6', '7', '8', '9'])\n"
     ]
    },
    {
     "ename": "UnsupportedOperation",
     "evalue": "not writable",
     "output_type": "error",
     "traceback": [
      "\u001B[1;31m---------------------------------------------------------------------------\u001B[0m",
      "\u001B[1;31mUnsupportedOperation\u001B[0m                      Traceback (most recent call last)",
      "Input \u001B[1;32mIn [17]\u001B[0m, in \u001B[0;36m<cell line: 4>\u001B[1;34m()\u001B[0m\n\u001B[0;32m      2\u001B[0m generator \u001B[38;5;241m=\u001B[39m DataGenerator(test_data\u001B[38;5;241m=\u001B[39m\u001B[38;5;241m100\u001B[39m, train_data\u001B[38;5;241m=\u001B[39m\u001B[38;5;241m500\u001B[39m)\n\u001B[0;32m      3\u001B[0m \u001B[38;5;28mprint\u001B[39m(generator\u001B[38;5;241m.\u001B[39mtemp_data\u001B[38;5;241m.\u001B[39mkeys())\n\u001B[1;32m----> 4\u001B[0m \u001B[43mgenerator\u001B[49m\u001B[38;5;241;43m.\u001B[39;49m\u001B[43mgenerate_train_data\u001B[49m\u001B[43m(\u001B[49m\u001B[43m)\u001B[49m\n",
      "File \u001B[1;32mC:\\coding\\Neural-Networks-Labs\\lab_2\\2nd_part\\data_generator.py:38\u001B[0m, in \u001B[0;36mDataGenerator.generate_train_data\u001B[1;34m(self)\u001B[0m\n\u001B[0;32m     36\u001B[0m \u001B[38;5;28;01mwith\u001B[39;00m \u001B[38;5;28mopen\u001B[39m(\u001B[38;5;28mself\u001B[39m\u001B[38;5;241m.\u001B[39m__test_file) \u001B[38;5;28;01mas\u001B[39;00m wf:\n\u001B[0;32m     37\u001B[0m     \u001B[38;5;28;01mfor\u001B[39;00m item \u001B[38;5;129;01min\u001B[39;00m \u001B[38;5;28mself\u001B[39m\u001B[38;5;241m.\u001B[39mtemp_data:\n\u001B[1;32m---> 38\u001B[0m         \u001B[43mjson\u001B[49m\u001B[38;5;241;43m.\u001B[39;49m\u001B[43mdump\u001B[49m\u001B[43m(\u001B[49m\u001B[43mitem\u001B[49m\u001B[43m,\u001B[49m\u001B[43m \u001B[49m\u001B[43mwf\u001B[49m\u001B[43m)\u001B[49m\n",
      "File \u001B[1;32m~\\AppData\\Local\\Programs\\Python\\Python310\\lib\\json\\__init__.py:180\u001B[0m, in \u001B[0;36mdump\u001B[1;34m(obj, fp, skipkeys, ensure_ascii, check_circular, allow_nan, cls, indent, separators, default, sort_keys, **kw)\u001B[0m\n\u001B[0;32m    177\u001B[0m \u001B[38;5;66;03m# could accelerate with writelines in some versions of Python, at\u001B[39;00m\n\u001B[0;32m    178\u001B[0m \u001B[38;5;66;03m# a debuggability cost\u001B[39;00m\n\u001B[0;32m    179\u001B[0m \u001B[38;5;28;01mfor\u001B[39;00m chunk \u001B[38;5;129;01min\u001B[39;00m iterable:\n\u001B[1;32m--> 180\u001B[0m     \u001B[43mfp\u001B[49m\u001B[38;5;241;43m.\u001B[39;49m\u001B[43mwrite\u001B[49m\u001B[43m(\u001B[49m\u001B[43mchunk\u001B[49m\u001B[43m)\u001B[49m\n",
      "\u001B[1;31mUnsupportedOperation\u001B[0m: not writable"
     ]
    }
   ],
   "source": [
    "from data_generator import DataGenerator\n",
    "generator = DataGenerator(test_data=100, train_data=500)\n",
    "print(generator.temp_data.keys())\n",
    "generator.generate_train_data()\n",
    "# generator.generate_test_data()\n",
    "# test_data = generator.get_test_data()\n",
    "# train_data = generator.get_train_data()\n",
    "# print(test_data)"
   ],
   "metadata": {
    "collapsed": false,
    "pycharm": {
     "name": "#%%\n"
    }
   }
  },
  {
   "cell_type": "code",
   "execution_count": null,
   "outputs": [],
   "source": [
    "print(\"В обучающей выборке образов x:\", len(x_train), \"целевых значений y:\", len(y_train))\n",
    "print(\"В тестовой выборке образов x:\", len(x_test), \"целевых значений y:\", len(y_test))"
   ],
   "metadata": {
    "collapsed": false,
    "pycharm": {
     "name": "#%%\n"
    }
   }
  },
  {
   "cell_type": "code",
   "execution_count": null,
   "outputs": [],
   "source": [
    "# Посмотрим, что внутри обучающих данных:\n",
    "n1 = 5555  # выбрали номер от 0 до 60000\n",
    "plt.imshow((255 - x_train[n1]), cmap=\"gray\")\n",
    "print(x_train[n1])"
   ],
   "metadata": {
    "collapsed": false,
    "pycharm": {
     "name": "#%%\n"
    }
   }
  },
  {
   "cell_type": "code",
   "execution_count": null,
   "outputs": [],
   "source": [
    "# приводим оттенки серого 0..255 к диапазону 0..1\n",
    "x_train = x_train / 255\n",
    "x_test = x_test / 255\n",
    "print(\"Размер обучающих данных: \", tf.shape(x_train).numpy())"
   ],
   "metadata": {
    "collapsed": false,
    "pycharm": {
     "name": "#%%\n"
    }
   }
  },
  {
   "cell_type": "code",
   "execution_count": null,
   "outputs": [],
   "source": [
    "# выпрямляем массив, чтобы он сих квадратного превратился в линейный\n",
    "# [-1, 28*28]  означает что, матрица 28 на 28 выпрямляется в массив размером\n",
    "# 28*28 штук, а перзмерность по первой оси, где стоит -1 вычисляется\n",
    "# автоматически\n",
    "x_train = tf.reshape(tf.cast(x_train, tf.float32), [-1, 28 * 28])\n",
    "x_test = tf.reshape(tf.cast(x_test, tf.float32), [-1, 28 * 28])\n",
    "print(\"Новый размер: \", tf.shape(x_train).numpy())"
   ],
   "metadata": {
    "collapsed": false,
    "pycharm": {
     "name": "#%%\n"
    }
   }
  },
  {
   "cell_type": "code",
   "execution_count": null,
   "outputs": [],
   "source": [
    "# переделываем целевые значения\n",
    "# y_train[i] -- это цифра, подлежащая различению, например 3\n",
    "# Превратим её в массив [0 0 0 1 0 0 0 0 0 0]\n",
    "# здесь 1 стоит на 3 месте. Это и есть целевые выходы\n",
    "# нейронов последнего слоя, чтобы именно нейрон с номером 3\n",
    "# откликался на изображение цифры 3\n",
    "# Для такого преобразования есть специальная функция  to_categorical\n",
    "# Такой формат называется вектор One-hot\n",
    "print(\"Целевое значение до преобразования:\", y_train[n1])"
   ],
   "metadata": {
    "collapsed": false,
    "pycharm": {
     "name": "#%%\n"
    }
   }
  },
  {
   "cell_type": "code",
   "execution_count": null,
   "outputs": [],
   "source": [
    "y_train = to_categorical(y_train, 10)"
   ],
   "metadata": {
    "collapsed": false,
    "pycharm": {
     "name": "#%%\n"
    }
   }
  },
  {
   "cell_type": "code",
   "execution_count": null,
   "outputs": [],
   "source": [
    "print(\"Целевое значение после преобразования:\", y_train[n1])\n"
   ],
   "metadata": {
    "collapsed": false,
    "pycharm": {
     "name": "#%%\n"
    }
   }
  },
  {
   "cell_type": "code",
   "execution_count": null,
   "outputs": [],
   "source": [
    "# Создаём модель слоя\n",
    "class DenseNN(tf.Module):\n",
    "    # Конструктор. Заполняет начальные значения\n",
    "    def __init__(self, outputs, activate=\"relu\"):\n",
    "        super().__init__()\n",
    "        self.outputs = outputs  # количество выходов = количеству нейронов в слое\n",
    "        self.activate = activate  # тип активационной функции (по умолчанию relu)\n",
    "        self.fl_init = False  # становится true после первой инициализации весов\n",
    "\n",
    "    # Функция для расчёта выходных величин сети\n",
    "    def __call__(self, x):\n",
    "        if not self.fl_init:  # если весов ещё нет, создаём их случайными\n",
    "            self.w = tf.random.truncated_normal((x.shape[-1], self.outputs), stddev=0.1, name=\"w\")\n",
    "            self.b = tf.zeros([self.outputs], dtype=tf.float32, name=\"b\")\n",
    "            \"\"\"Размер тензора w: (x.shape[-1], self.outputs)\n",
    "            здесь x.shape[-1] - размер вектора входных данных,\n",
    "            то есть, сколько входов в первый раз подадим на сеть,\n",
    "            столько весов к каждому нейрону и сформируется\n",
    "            следовательно, первый индекс - номер входа нейрона\n",
    "            второй размер self.outputs совпадает с количеством выходов\n",
    "            и с количеством нейронов в слое, значит второй\n",
    "            индекс - номер нейрона\n",
    "            stddev=0.1 - среднеквадратическое отклонение\"\"\"\n",
    "\n",
    "            # преобразуем w и b в тензоры\n",
    "            self.w = tf.Variable(self.w)\n",
    "            self.b = tf.Variable(self.b)\n",
    "\n",
    "            self.fl_init = True\n",
    "        # матричное вычисление выхода слоя\n",
    "        y = x @ self.w + self.b\n",
    "\n",
    "        if self.activate == \"relu\":\n",
    "            return tf.nn.relu(y)\n",
    "        elif self.activate == \"softmax\":\n",
    "            return tf.nn.softmax(y)\n",
    "\n",
    "        return y\n"
   ],
   "metadata": {
    "collapsed": false,
    "pycharm": {
     "name": "#%%\n"
    }
   }
  },
  {
   "cell_type": "code",
   "execution_count": null,
   "outputs": [],
   "source": [
    "# создадим два полносвязных слоя со 128 нейронами и 10\n",
    "layer_1 = DenseNN(128)\n",
    "layer_2 = DenseNN(10, activate=\"softmax\")\n"
   ],
   "metadata": {
    "collapsed": false,
    "pycharm": {
     "name": "#%%\n"
    }
   }
  },
  {
   "cell_type": "code",
   "execution_count": null,
   "outputs": [],
   "source": [
    "# Функция расчёта значений на выходе сети\n",
    "def model_predict(x):\n",
    "    y = layer_1(x)\n",
    "    y = layer_2(y)\n",
    "    return y  # layer_2(layer_1(x))\n"
   ],
   "metadata": {
    "collapsed": false,
    "pycharm": {
     "name": "#%%\n"
    }
   }
  },
  {
   "cell_type": "code",
   "execution_count": null,
   "outputs": [],
   "source": [
    "# Задание функции потерь\n",
    "cross_entropy = lambda y_true, y_pred: tf.reduce_mean(tf.losses.categorical_crossentropy(y_true, y_pred))\n",
    "# y_true, y_pred – это наборы one-hot векторов размером мини-батча\n"
   ],
   "metadata": {
    "collapsed": false,
    "pycharm": {
     "name": "#%%\n"
    }
   }
  },
  {
   "cell_type": "code",
   "execution_count": null,
   "outputs": [],
   "source": [
    "# определим оптимизатор для градиентного спуска\n",
    "opt = tf.optimizers.Adam(learning_rate=0.001)"
   ],
   "metadata": {
    "collapsed": false,
    "pycharm": {
     "name": "#%%\n"
    }
   }
  },
  {
   "cell_type": "code",
   "execution_count": null,
   "outputs": [],
   "source": [
    "# Готовим обучение\n",
    "BATCH_SIZE = 32\n",
    "EPOCHS = 10\n",
    "TOTAL = x_train.shape[0]\n",
    "print(f'Data amount in training set: {TOTAL}')"
   ],
   "metadata": {
    "collapsed": false,
    "pycharm": {
     "name": "#%%\n"
    }
   }
  },
  {
   "cell_type": "code",
   "execution_count": null,
   "outputs": [],
   "source": [
    "# tf.data.Dataset - это класс с набором обучающих данных.\n",
    "# Его можно создать из списков питона методом from_tensor_slices\n",
    "# можно из файлов dataset = tf.data.TextLineDataset([\"file1.txt\", \"file2.txt\"])\n",
    "# подробнее https://www.tensorflow.org/api_docs/python/tf/data/Dataset\n",
    "train_dataset = tf.data.Dataset.from_tensor_slices((x_train, y_train))\n",
    "# Перемешиваем выборки и разбиваем на батчи\n",
    "train_dataset = train_dataset.shuffle(buffer_size=1024).batch(BATCH_SIZE)"
   ],
   "metadata": {
    "collapsed": false,
    "pycharm": {
     "name": "#%%\n"
    }
   }
  },
  {
   "cell_type": "code",
   "execution_count": null,
   "outputs": [],
   "source": [
    "# Цикл обучения\n",
    "for n in range(EPOCHS):\n",
    "    loss = 0\n",
    "    for x_batch, y_batch in train_dataset:\n",
    "        with tf.GradientTape() as tape:\n",
    "            f_loss = cross_entropy(y_batch, model_predict(x_batch))\n",
    "\n",
    "        loss += f_loss\n",
    "        grads = tape.gradient(f_loss, [layer_1.trainable_variables, layer_2.trainable_variables])\n",
    "        opt.apply_gradients(zip(grads[0], layer_1.trainable_variables))\n",
    "        opt.apply_gradients(zip(grads[1], layer_2.trainable_variables))\n",
    "\n",
    "    print(f'Loss by epochs: {loss.numpy()}')"
   ],
   "metadata": {
    "collapsed": false,
    "pycharm": {
     "name": "#%%\n"
    }
   }
  },
  {
   "cell_type": "code",
   "execution_count": null,
   "outputs": [],
   "source": [
    "y = model_predict(x_test)\n",
    "y2 = tf.argmax(y, axis=1).numpy()\n",
    "acc = len(y_test[y_test == y2]) / y_test.shape[0] * 100\n",
    "print(f'Summary accuracy: {acc}')"
   ],
   "metadata": {
    "collapsed": false,
    "pycharm": {
     "name": "#%%\n"
    }
   }
  },
  {
   "cell_type": "code",
   "execution_count": null,
   "outputs": [],
   "source": [],
   "metadata": {
    "collapsed": false,
    "pycharm": {
     "name": "#%%\n"
    }
   }
  }
 ],
 "metadata": {
  "kernelspec": {
   "display_name": "Python 3",
   "language": "python",
   "name": "python3"
  },
  "language_info": {
   "codemirror_mode": {
    "name": "ipython",
    "version": 2
   },
   "file_extension": ".py",
   "mimetype": "text/x-python",
   "name": "python",
   "nbconvert_exporter": "python",
   "pygments_lexer": "ipython2",
   "version": "2.7.6"
  }
 },
 "nbformat": 4,
 "nbformat_minor": 0
}