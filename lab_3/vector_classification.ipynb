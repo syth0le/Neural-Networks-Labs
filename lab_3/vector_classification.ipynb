{
 "cells": [
  {
   "cell_type": "code",
   "execution_count": 91,
   "metadata": {
    "collapsed": true
   },
   "outputs": [
    {
     "name": "stdout",
     "output_type": "stream",
     "text": [
      "%pylab is deprecated, use %matplotlib inline and import the required libraries.\n",
      "Populating the interactive namespace from numpy and matplotlib\n"
     ]
    }
   ],
   "source": [
    "#Импортируем нужные библиотеки:\n",
    "import numpy as np\n",
    "from sklearn import linear_model\n",
    "from sklearn import metrics\n",
    "from sklearn.cluster import KMeans\n",
    "from sklearn.model_selection import train_test_split, cross_val_score\n",
    "%pylab inline"
   ]
  },
  {
   "cell_type": "code",
   "execution_count": 55,
   "outputs": [
    {
     "data": {
      "text/plain": "'Initialization of data generator'"
     },
     "execution_count": 55,
     "metadata": {},
     "output_type": "execute_result"
    }
   ],
   "source": [
    "\"\"\"Initialization of data generator\"\"\"\n",
    "from data_generator import DataGenerator\n",
    "\n",
    "generator = DataGenerator(test_data=100, train_data=300)"
   ],
   "metadata": {
    "collapsed": false,
    "pycharm": {
     "name": "#%%\n"
    }
   }
  },
  {
   "cell_type": "code",
   "execution_count": 56,
   "outputs": [
    {
     "data": {
      "text/plain": "'Get train data'"
     },
     "execution_count": 56,
     "metadata": {},
     "output_type": "execute_result"
    }
   ],
   "source": [
    "\"\"\"Get train data\"\"\"\n",
    "generator.generate_train_data()\n",
    "train_data = generator.get_train_data()"
   ],
   "metadata": {
    "collapsed": false,
    "pycharm": {
     "name": "#%%\n"
    }
   }
  },
  {
   "cell_type": "code",
   "execution_count": 57,
   "outputs": [
    {
     "data": {
      "text/plain": "'Get test data'"
     },
     "execution_count": 57,
     "metadata": {},
     "output_type": "execute_result"
    }
   ],
   "source": [
    "\"\"\"Get test data\"\"\"\n",
    "generator.generate_test_data()\n",
    "test_data = generator.get_test_data()"
   ],
   "metadata": {
    "collapsed": false,
    "pycharm": {
     "name": "#%%\n"
    }
   }
  },
  {
   "cell_type": "code",
   "execution_count": 58,
   "outputs": [
    {
     "data": {
      "text/plain": "'Get shapes and examples of generated data'"
     },
     "execution_count": 58,
     "metadata": {},
     "output_type": "execute_result"
    },
    {
     "name": "stdout",
     "output_type": "stream",
     "text": [
      "Train: 3741, Test: 900\n",
      "Train ex.: ['3', [0, 1, 1, 0, 1, 0, 0, 0, 0, 0, 0, 1, 1, 0, 1, 0, 1, 0, 0, 0, 0, 0, 0, 1, 1, 1, 1, 1, 1, 0, 1, 1, 0, 1, 0]]\n",
      "Test ex.: ['0', [1, 1, 0, 0, 1, 0, 0, 1, 0, 1, 1, 0, 0, 0, 0, 0, 1, 1, 1, 1, 0, 1, 0, 0, 0, 1, 0, 0, 0, 1, 1, 1, 1, 1, 1]]\n"
     ]
    }
   ],
   "source": [
    "\"\"\"Get shapes and examples of generated data\"\"\"\n",
    "print(f'Train: {len(train_data)}, Test: {len(test_data)}')\n",
    "print(f'Train ex.: {train_data[13]}')\n",
    "print(f'Test ex.: {test_data[50]}')"
   ],
   "metadata": {
    "collapsed": false,
    "pycharm": {
     "name": "#%%\n"
    }
   }
  },
  {
   "cell_type": "code",
   "execution_count": 66,
   "outputs": [],
   "source": [
    "# restructure data\n",
    "Y_train, X_train = list(zip(*train_data))\n",
    "Y_test, X_test = list(zip(*test_data))\n",
    "\n",
    "Y_train = list(map(int, Y_train))\n",
    "Y_test = list(map(int, Y_test))"
   ],
   "metadata": {
    "collapsed": false,
    "pycharm": {
     "name": "#%%\n"
    }
   }
  },
  {
   "cell_type": "code",
   "execution_count": 77,
   "outputs": [
    {
     "data": {
      "text/plain": "<Figure size 1440x1728 with 0 Axes>"
     },
     "execution_count": 77,
     "metadata": {},
     "output_type": "execute_result"
    },
    {
     "data": {
      "text/plain": "<AxesSubplot:>"
     },
     "execution_count": 77,
     "metadata": {},
     "output_type": "execute_result"
    },
    {
     "data": {
      "text/plain": "(array([375., 374., 374., 374., 374., 374., 374., 374., 748.]),\n array([0, 1, 2, 3, 4, 5, 6, 7, 8, 9]),\n <BarContainer object of 9 artists>)"
     },
     "execution_count": 77,
     "metadata": {},
     "output_type": "execute_result"
    },
    {
     "data": {
      "text/plain": "Text(0.5, 1.0, 'Y_train')"
     },
     "execution_count": 77,
     "metadata": {},
     "output_type": "execute_result"
    },
    {
     "data": {
      "text/plain": "<AxesSubplot:>"
     },
     "execution_count": 77,
     "metadata": {},
     "output_type": "execute_result"
    },
    {
     "data": {
      "text/plain": "(array([ 90.,  90.,  90.,  90.,  90.,  90.,  90.,  90., 180.]),\n array([0, 1, 2, 3, 4, 5, 6, 7, 8, 9]),\n <BarContainer object of 9 artists>)"
     },
     "execution_count": 77,
     "metadata": {},
     "output_type": "execute_result"
    },
    {
     "data": {
      "text/plain": "Text(0.5, 1.0, 'Y_test')"
     },
     "execution_count": 77,
     "metadata": {},
     "output_type": "execute_result"
    },
    {
     "data": {
      "text/plain": "<AxesSubplot:>"
     },
     "execution_count": 77,
     "metadata": {},
     "output_type": "execute_result"
    },
    {
     "data": {
      "text/plain": "(array([[3741.],\n        [3741.],\n        [3741.],\n        [3741.],\n        [3741.],\n        [3741.],\n        [3741.],\n        [3741.],\n        [3741.],\n        [3741.],\n        [3741.],\n        [3741.],\n        [3741.],\n        [3741.],\n        [3741.],\n        [3741.],\n        [3741.],\n        [3741.],\n        [3741.],\n        [3741.],\n        [3741.],\n        [3741.],\n        [3741.],\n        [3741.],\n        [3741.],\n        [3741.],\n        [3741.],\n        [3741.],\n        [3741.],\n        [3741.],\n        [3741.],\n        [3741.],\n        [3741.],\n        [3741.],\n        [3741.]]),\n array([0, 1]),\n <a list of 35 BarContainer objects>)"
     },
     "execution_count": 77,
     "metadata": {},
     "output_type": "execute_result"
    },
    {
     "data": {
      "text/plain": "Text(0.5, 1.0, 'X_train')"
     },
     "execution_count": 77,
     "metadata": {},
     "output_type": "execute_result"
    },
    {
     "data": {
      "text/plain": "<AxesSubplot:>"
     },
     "execution_count": 77,
     "metadata": {},
     "output_type": "execute_result"
    },
    {
     "data": {
      "text/plain": "(array([[900.],\n        [900.],\n        [900.],\n        [900.],\n        [900.],\n        [900.],\n        [900.],\n        [900.],\n        [900.],\n        [900.],\n        [900.],\n        [900.],\n        [900.],\n        [900.],\n        [900.],\n        [900.],\n        [900.],\n        [900.],\n        [900.],\n        [900.],\n        [900.],\n        [900.],\n        [900.],\n        [900.],\n        [900.],\n        [900.],\n        [900.],\n        [900.],\n        [900.],\n        [900.],\n        [900.],\n        [900.],\n        [900.],\n        [900.],\n        [900.]]),\n array([0, 1]),\n <a list of 35 BarContainer objects>)"
     },
     "execution_count": 77,
     "metadata": {},
     "output_type": "execute_result"
    },
    {
     "data": {
      "text/plain": "Text(0.5, 1.0, 'X_test')"
     },
     "execution_count": 77,
     "metadata": {},
     "output_type": "execute_result"
    },
    {
     "data": {
      "text/plain": "<Figure size 1440x1728 with 4 Axes>",
      "image/png": "[encoded data removed]"
     },
     "metadata": {
      "needs_background": "light"
     },
     "output_type": "display_data"
    }
   ],
   "source": [
    "from IPython.core.pylabtools import figsize\n",
    "from matplotlib import pyplot\n",
    "pyplot.figure(figsize(20, 24))\n",
    "\n",
    "a = np.array(Y_train)\n",
    "pyplot.subplot(4, 3, 1)\n",
    "pyplot.hist(a, bins = [0,1,2,3,4,5,6,7,8,9])\n",
    "pyplot.title(\"Y_train\")\n",
    "\n",
    "a = np.array(Y_test)\n",
    "pyplot.subplot(4, 3, 2)\n",
    "pyplot.hist(a, bins=[0,1,2,3,4,5,6,7,8,9])\n",
    "pyplot.title(\"Y_test\")\n",
    "\n",
    "a = np.array(X_train)\n",
    "pyplot.subplot(4, 3, 3)\n",
    "pyplot.hist(a, bins=[0,1])\n",
    "pyplot.title(\"X_train\")\n",
    "\n",
    "a = np.array(X_test)\n",
    "pyplot.subplot(4, 3, 4)\n",
    "pyplot.hist(a, bins=[0,1])\n",
    "pyplot.title(\"X_test\")\n",
    "pyplot.show()"
   ],
   "metadata": {
    "collapsed": false,
    "pycharm": {
     "name": "#%%\n"
    }
   }
  },
  {
   "cell_type": "code",
   "execution_count": 92,
   "outputs": [
    {
     "data": {
      "text/plain": "KMeans(n_clusters=3)"
     },
     "execution_count": 92,
     "metadata": {},
     "output_type": "execute_result"
    },
    {
     "name": "stdout",
     "output_type": "stream",
     "text": [
      "0.13891362422083706\n",
      "              precision    recall  f1-score   support\n",
      "\n",
      "           0       0.10      0.37      0.16       121\n",
      "           1       0.22      0.47      0.30       112\n",
      "           2       0.13      0.52      0.21       112\n",
      "           3       0.00      0.00      0.00        95\n",
      "           4       0.00      0.00      0.00       115\n",
      "           5       0.00      0.00      0.00       108\n",
      "           6       0.00      0.00      0.00       113\n",
      "           7       0.00      0.00      0.00       108\n",
      "           8       0.00      0.00      0.00       118\n",
      "           9       0.00      0.00      0.00       121\n",
      "\n",
      "    accuracy                           0.14      1123\n",
      "   macro avg       0.05      0.14      0.07      1123\n",
      "weighted avg       0.05      0.14      0.07      1123\n",
      "\n"
     ]
    },
    {
     "name": "stderr",
     "output_type": "stream",
     "text": [
      "c:\\coding\\neural-networks-labs\\venv\\lib\\site-packages\\sklearn\\metrics\\_classification.py:1318: UndefinedMetricWarning: Precision and F-score are ill-defined and being set to 0.0 in labels with no predicted samples. Use `zero_division` parameter to control this behavior.\n",
      "  _warn_prf(average, modifier, msg_start, len(result))\n",
      "c:\\coding\\neural-networks-labs\\venv\\lib\\site-packages\\sklearn\\metrics\\_classification.py:1318: UndefinedMetricWarning: Precision and F-score are ill-defined and being set to 0.0 in labels with no predicted samples. Use `zero_division` parameter to control this behavior.\n",
      "  _warn_prf(average, modifier, msg_start, len(result))\n",
      "c:\\coding\\neural-networks-labs\\venv\\lib\\site-packages\\sklearn\\metrics\\_classification.py:1318: UndefinedMetricWarning: Precision and F-score are ill-defined and being set to 0.0 in labels with no predicted samples. Use `zero_division` parameter to control this behavior.\n",
      "  _warn_prf(average, modifier, msg_start, len(result))\n"
     ]
    }
   ],
   "source": [
    "train_data, test_data, train_labels, test_labels = train_test_split(X_train, Y_train, test_size = 0.3)\n",
    "model = KMeans(n_clusters=3)\n",
    "model.fit(train_data)\n",
    "model_predictions = model.predict(test_data)\n",
    "print(metrics.accuracy_score(test_labels, model_predictions))\n",
    "print(metrics.classification_report(test_labels, model_predictions))"
   ],
   "metadata": {
    "collapsed": false,
    "pycharm": {
     "name": "#%%\n"
    }
   }
  },
  {
   "cell_type": "code",
   "execution_count": 93,
   "outputs": [
    {
     "data": {
      "text/plain": "SGDClassifier(alpha=0.001, random_state=0)"
     },
     "execution_count": 93,
     "metadata": {},
     "output_type": "execute_result"
    },
    {
     "name": "stdout",
     "output_type": "stream",
     "text": [
      "0.7684772929652716\n",
      "              precision    recall  f1-score   support\n",
      "\n",
      "           0       0.74      0.68      0.71        99\n",
      "           1       0.85      0.82      0.84       121\n",
      "           2       0.84      0.71      0.77       103\n",
      "           3       0.76      0.70      0.73       106\n",
      "           4       0.72      0.55      0.63       105\n",
      "           5       0.81      0.78      0.79       109\n",
      "           6       0.83      0.91      0.87       117\n",
      "           7       0.67      0.94      0.78       114\n",
      "           8       0.58      0.55      0.57       125\n",
      "           9       0.89      1.00      0.94       124\n",
      "\n",
      "    accuracy                           0.77      1123\n",
      "   macro avg       0.77      0.76      0.76      1123\n",
      "weighted avg       0.77      0.77      0.76      1123\n",
      "\n"
     ]
    }
   ],
   "source": [
    "train_data, test_data, train_labels, test_labels = train_test_split(X_train, Y_train, test_size = 0.3, random_state = 0)\n",
    "model = linear_model.SGDClassifier(alpha=0.001, max_iter=1000, random_state = 0)\n",
    "model.fit(train_data, train_labels)\n",
    "model_predictions = model.predict(test_data)\n",
    "print(metrics.accuracy_score(test_labels, model_predictions))\n",
    "print(metrics.classification_report(test_labels, model_predictions))"
   ],
   "metadata": {
    "collapsed": false,
    "pycharm": {
     "name": "#%%\n"
    }
   }
  },
  {
   "cell_type": "code",
   "execution_count": 97,
   "outputs": [
    {
     "name": "stdout",
     "output_type": "stream",
     "text": [
      "0.7845412535462548\n"
     ]
    }
   ],
   "source": [
    "train_data, test_data, train_labels, test_labels = train_test_split(X_train, Y_train, test_size = 0.3, random_state = 0)\n",
    "model = linear_model.SGDClassifier(alpha=0.00001, max_iter=1835, random_state = 0)\n",
    "scores = cross_val_score(model, train_data, train_labels, cv=10)\n",
    "print(scores.mean())"
   ],
   "metadata": {
    "collapsed": false,
    "pycharm": {
     "name": "#%%\n"
    }
   }
  },
  {
   "cell_type": "code",
   "execution_count": 131,
   "outputs": [],
   "source": [
    "import pandas as pd\n",
    "\n",
    "train_data = list(zip(Y_train, tuple(map(tuple, X_train))))\n",
    "test_data = list(zip(Y_test, tuple(map(tuple, X_test))))\n",
    "df_train = pd.DataFrame(train_data, columns=['target', 'data'])\n",
    "df_test = pd.DataFrame(test_data, columns=['target', 'data'])"
   ],
   "metadata": {
    "collapsed": false,
    "pycharm": {
     "name": "#%%\n"
    }
   }
  },
  {
   "cell_type": "code",
   "execution_count": 132,
   "outputs": [
    {
     "data": {
      "text/plain": "   target                                               data\n0       0  (0, 0, 0, 1, 0, 0, 0, 0, 0, 1, 1, 0, 0, 1, 0, ...\n1       1  (1, 1, 1, 0, 0, 0, 1, 0, 1, 1, 1, 0, 1, 1, 1, ...\n2       2  (0, 1, 1, 1, 0, 1, 0, 0, 0, 0, 0, 1, 1, 0, 0, ...\n3       3  (0, 1, 1, 0, 1, 0, 0, 0, 0, 0, 0, 1, 1, 0, 1, ...\n4       4  (0, 1, 0, 0, 1, 0, 0, 0, 0, 1, 0, 1, 0, 1, 0, ...",
      "text/html": "<div>\n<style scoped>\n    .dataframe tbody tr th:only-of-type {\n        vertical-align: middle;\n    }\n\n    .dataframe tbody tr th {\n        vertical-align: top;\n    }\n\n    .dataframe thead th {\n        text-align: right;\n    }\n</style>\n<table border=\"1\" class=\"dataframe\">\n  <thead>\n    <tr style=\"text-align: right;\">\n      <th></th>\n      <th>target</th>\n      <th>data</th>\n    </tr>\n  </thead>\n  <tbody>\n    <tr>\n      <th>0</th>\n      <td>0</td>\n      <td>(0, 0, 0, 1, 0, 0, 0, 0, 0, 1, 1, 0, 0, 1, 0, ...</td>\n    </tr>\n    <tr>\n      <th>1</th>\n      <td>1</td>\n      <td>(1, 1, 1, 0, 0, 0, 1, 0, 1, 1, 1, 0, 1, 1, 1, ...</td>\n    </tr>\n    <tr>\n      <th>2</th>\n      <td>2</td>\n      <td>(0, 1, 1, 1, 0, 1, 0, 0, 0, 0, 0, 1, 1, 0, 0, ...</td>\n    </tr>\n    <tr>\n      <th>3</th>\n      <td>3</td>\n      <td>(0, 1, 1, 0, 1, 0, 0, 0, 0, 0, 0, 1, 1, 0, 1, ...</td>\n    </tr>\n    <tr>\n      <th>4</th>\n      <td>4</td>\n      <td>(0, 1, 0, 0, 1, 0, 0, 0, 0, 1, 0, 1, 0, 1, 0, ...</td>\n    </tr>\n  </tbody>\n</table>\n</div>"
     },
     "execution_count": 132,
     "metadata": {},
     "output_type": "execute_result"
    }
   ],
   "source": [
    "df_train.head()"
   ],
   "metadata": {
    "collapsed": false,
    "pycharm": {
     "name": "#%%\n"
    }
   }
  },
  {
   "cell_type": "code",
   "execution_count": 133,
   "outputs": [
    {
     "data": {
      "text/plain": "   target                                               data\n0       0  (1, 1, 0, 0, 1, 0, 0, 1, 0, 1, 1, 0, 0, 0, 0, ...\n1       1  (0, 1, 1, 0, 0, 1, 1, 0, 1, 1, 0, 0, 0, 1, 0, ...\n2       2  (1, 0, 0, 1, 0, 0, 1, 0, 0, 0, 0, 0, 0, 1, 0, ...\n3       3  (0, 0, 0, 0, 1, 0, 0, 0, 1, 1, 1, 0, 0, 0, 1, ...\n4       4  (1, 0, 1, 0, 1, 0, 0, 0, 0, 0, 0, 1, 0, 1, 0, ...",
      "text/html": "<div>\n<style scoped>\n    .dataframe tbody tr th:only-of-type {\n        vertical-align: middle;\n    }\n\n    .dataframe tbody tr th {\n        vertical-align: top;\n    }\n\n    .dataframe thead th {\n        text-align: right;\n    }\n</style>\n<table border=\"1\" class=\"dataframe\">\n  <thead>\n    <tr style=\"text-align: right;\">\n      <th></th>\n      <th>target</th>\n      <th>data</th>\n    </tr>\n  </thead>\n  <tbody>\n    <tr>\n      <th>0</th>\n      <td>0</td>\n      <td>(1, 1, 0, 0, 1, 0, 0, 1, 0, 1, 1, 0, 0, 0, 0, ...</td>\n    </tr>\n    <tr>\n      <th>1</th>\n      <td>1</td>\n      <td>(0, 1, 1, 0, 0, 1, 1, 0, 1, 1, 0, 0, 0, 1, 0, ...</td>\n    </tr>\n    <tr>\n      <th>2</th>\n      <td>2</td>\n      <td>(1, 0, 0, 1, 0, 0, 1, 0, 0, 0, 0, 0, 0, 1, 0, ...</td>\n    </tr>\n    <tr>\n      <th>3</th>\n      <td>3</td>\n      <td>(0, 0, 0, 0, 1, 0, 0, 0, 1, 1, 1, 0, 0, 0, 1, ...</td>\n    </tr>\n    <tr>\n      <th>4</th>\n      <td>4</td>\n      <td>(1, 0, 1, 0, 1, 0, 0, 0, 0, 0, 0, 1, 0, 1, 0, ...</td>\n    </tr>\n  </tbody>\n</table>\n</div>"
     },
     "execution_count": 133,
     "metadata": {},
     "output_type": "execute_result"
    }
   ],
   "source": [
    "df_test.head()"
   ],
   "metadata": {
    "collapsed": false,
    "pycharm": {
     "name": "#%%\n"
    }
   }
  },
  {
   "cell_type": "code",
   "execution_count": 136,
   "outputs": [
    {
     "data": {
      "text/plain": "((900, 2), (3741, 2))"
     },
     "execution_count": 136,
     "metadata": {},
     "output_type": "execute_result"
    }
   ],
   "source": [
    "df_test.shape, df_train.shape"
   ],
   "metadata": {
    "collapsed": false,
    "pycharm": {
     "name": "#%%\n"
    }
   }
  },
  {
   "cell_type": "code",
   "execution_count": null,
   "outputs": [],
   "source": [],
   "metadata": {
    "collapsed": false,
    "pycharm": {
     "name": "#%%\n"
    }
   }
  }
 ],
 "metadata": {
  "kernelspec": {
   "display_name": "Python 3",
   "language": "python",
   "name": "python3"
  },
  "language_info": {
   "codemirror_mode": {
    "name": "ipython",
    "version": 2
   },
   "file_extension": ".py",
   "mimetype": "text/x-python",
   "name": "python",
   "nbconvert_exporter": "python",
   "pygments_lexer": "ipython2",
   "version": "2.7.6"
  }
 },
 "nbformat": 4,
 "nbformat_minor": 0
}