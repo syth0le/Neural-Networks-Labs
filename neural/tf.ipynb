{
 "cells": [
  {
   "cell_type": "code",
   "execution_count": 14,
   "id": "02ecc376-5ff6-4eab-b235-daf20e22f2d2",
   "metadata": {},
   "outputs": [],
   "source": [
    "from tensorflow import keras\n",
    "import numpy as np\n",
    "import matplotlib.pyplot as plt\n",
    "import json\n",
    "import random\n",
    "import os\n",
    "\n",
    "os.environ['TF_CPP_MIN_LOG_LEVEL'] = '2'\n",
    "%matplotlib inline"
   ]
  },
  {
   "cell_type": "code",
   "execution_count": 15,
   "id": "317ca427-b11d-42b3-93ca-04c3d9a1cd8f",
   "metadata": {},
   "outputs": [],
   "source": [
    "with open('./input.json') as file:\n",
    "    data = json.load(file)"
   ]
  },
  {
   "cell_type": "code",
   "execution_count": 16,
   "id": "4ac28add-e5a6-4757-b90e-c471236ea070",
   "metadata": {},
   "outputs": [],
   "source": [
    "SIZE_OF_ONE_IMAGE = 35"
   ]
  },
  {
   "cell_type": "code",
   "execution_count": 17,
   "id": "13d17069-e22f-45be-9919-64869e342161",
   "metadata": {},
   "outputs": [],
   "source": [
    "def generate_dataframe(data):\n",
    "    x, y = [], []\n",
    "    for _ in range(10000):\n",
    "        random_number = random.randint(0,9)\n",
    "\n",
    "        x.append(random.choice(data[str(random_number)]))\n",
    "        y.append(list(map(int, list('0' * random_number + '1' + (9 - random_number) * '0'))))\n",
    "    return x, y"
   ]
  },
  {
   "cell_type": "code",
   "execution_count": 18,
   "id": "05e4fd2e-8219-48bd-995b-0fa7d20052b2",
   "metadata": {},
   "outputs": [],
   "source": [
    "X, Y = generate_dataframe(data)"
   ]
  },
  {
   "cell_type": "code",
   "execution_count": 19,
   "id": "d567b600-823e-4fb5-9929-de8320589e09",
   "metadata": {},
   "outputs": [],
   "source": [
    "def plot_image(pixels):\n",
    "    plt.imshow(pixels.reshape((7, 5)))\n",
    "    plt.show()"
   ]
  },
  {
   "cell_type": "code",
   "execution_count": 20,
   "id": "f04a417f-1476-44c2-bcf4-2d730a89cd2a",
   "metadata": {},
   "outputs": [
    {
     "data": {
      "text/plain": "<Figure size 432x288 with 1 Axes>",
      "image/png": "[encoded data removed]"
     },
     "metadata": {
      "needs_background": "light"
     },
     "output_type": "display_data"
    },
    {
     "data": {
      "text/plain": "<Figure size 432x288 with 1 Axes>",
      "image/png": "[encoded data removed]"
     },
     "metadata": {
      "needs_background": "light"
     },
     "output_type": "display_data"
    },
    {
     "data": {
      "text/plain": "<Figure size 432x288 with 1 Axes>",
      "image/png": "[encoded data removed]"
     },
     "metadata": {
      "needs_background": "light"
     },
     "output_type": "display_data"
    },
    {
     "data": {
      "text/plain": "<Figure size 432x288 with 1 Axes>",
      "image/png": "[encoded data removed]"
     },
     "metadata": {
      "needs_background": "light"
     },
     "output_type": "display_data"
    },
    {
     "data": {
      "text/plain": "<Figure size 432x288 with 1 Axes>",
      "image/png": "[encoded data removed]"
     },
     "metadata": {
      "needs_background": "light"
     },
     "output_type": "display_data"
    }
   ],
   "source": [
    "for i in range(5):\n",
    "    random_number = random.randint(0,len(X)-1)\n",
    "    plot_image(np.array(X[random_number]))"
   ]
  },
  {
   "cell_type": "code",
   "execution_count": 21,
   "id": "7428029e-9522-4911-943f-daee97f012f9",
   "metadata": {},
   "outputs": [],
   "source": [
    "def split_train_test(x, y, koef):\n",
    "    length = len(x)\n",
    "    X_train, Y_train = [], []\n",
    "    for _ in range(int(length * koef)):\n",
    "        random_number = random.randint(0,len(x) - 1)\n",
    "        \n",
    "        X_train.append(x.pop(random_number))\n",
    "        Y_train.append(y.pop(random_number))\n",
    "    return X_train, Y_train, x, y\n",
    "        "
   ]
  },
  {
   "cell_type": "code",
   "execution_count": 22,
   "id": "6b6ab2cf-ca61-47a6-b84b-e016c7d2d66c",
   "metadata": {},
   "outputs": [],
   "source": [
    "X_train, Y_train, X_temp, Y_temp = split_train_test(X, Y, 0.7)\n",
    "X_validation, Y_validation, X_test, Y_test = split_train_test(X_temp, Y_temp, 0.2)"
   ]
  },
  {
   "cell_type": "code",
   "execution_count": 23,
   "id": "d2b38984-b241-4d43-bab1-022e7b574eca",
   "metadata": {},
   "outputs": [],
   "source": [
    "model = keras.Sequential()\n",
    "model.add(keras.layers.Dense(input_shape=(SIZE_OF_ONE_IMAGE,), units=128, activation='relu'))\n",
    "model.add(keras.layers.Dense(30))\n",
    "model.add(keras.layers.Dense(20))\n",
    "model.add(keras.layers.Dense(10, activation='softmax'))"
   ]
  },
  {
   "cell_type": "code",
   "execution_count": 24,
   "id": "a19f2020-0932-4f83-91f9-e04a5c5d4ac1",
   "metadata": {},
   "outputs": [
    {
     "name": "stdout",
     "output_type": "stream",
     "text": [
      "Model: \"sequential_1\"\n",
      "_________________________________________________________________\n",
      " Layer (type)                Output Shape              Param #   \n",
      "=================================================================\n",
      " dense_4 (Dense)             (None, 128)               4608      \n",
      "                                                                 \n",
      " dense_5 (Dense)             (None, 30)                3870      \n",
      "                                                                 \n",
      " dense_6 (Dense)             (None, 20)                620       \n",
      "                                                                 \n",
      " dense_7 (Dense)             (None, 10)                210       \n",
      "                                                                 \n",
      "=================================================================\n",
      "Total params: 9,308\n",
      "Trainable params: 9,308\n",
      "Non-trainable params: 0\n",
      "_________________________________________________________________\n"
     ]
    }
   ],
   "source": [
    "model.summary()"
   ]
  },
  {
   "cell_type": "code",
   "execution_count": 25,
   "id": "35efc93d-0e28-45d8-8a17-fad9ac3db499",
   "metadata": {},
   "outputs": [],
   "source": [
    "model.compile(optimizer='sgd',\n",
    "              loss='categorical_crossentropy',\n",
    "              metrics=['accuracy'])"
   ]
  },
  {
   "cell_type": "code",
   "execution_count": 27,
   "id": "720cb528-feef-439e-ac88-dc165580cd1f",
   "metadata": {},
   "outputs": [
    {
     "name": "stdout",
     "output_type": "stream",
     "text": [
      "Epoch 1/5\n",
      "55/55 [==============================] - 64s 1s/step - loss: 2.2211 - accuracy: 0.3016 - val_loss: 1.9770 - val_accuracy: 0.5117\n",
      "Epoch 2/5\n",
      "55/55 [==============================] - 0s 3ms/step - loss: 1.7763 - accuracy: 0.6071 - val_loss: 1.5570 - val_accuracy: 0.7150\n",
      "Epoch 3/5\n",
      "55/55 [==============================] - 0s 2ms/step - loss: 1.3755 - accuracy: 0.8201 - val_loss: 1.1833 - val_accuracy: 0.9050\n",
      "Epoch 4/5\n",
      "55/55 [==============================] - 0s 2ms/step - loss: 1.0264 - accuracy: 0.9390 - val_loss: 0.8728 - val_accuracy: 0.9783\n",
      "Epoch 5/5\n",
      "55/55 [==============================] - 0s 3ms/step - loss: 0.7466 - accuracy: 0.9841 - val_loss: 0.6339 - val_accuracy: 1.0000\n"
     ]
    }
   ],
   "source": [
    "res = model.fit(X_train, Y_train, epochs=5, batch_size=128, validation_data=(X_validation, Y_validation))"
   ]
  },
  {
   "cell_type": "code",
   "execution_count": 28,
   "id": "270cbdb4-7c62-44e7-a036-2108bfd6d461",
   "metadata": {},
   "outputs": [
    {
     "name": "stdout",
     "output_type": "stream",
     "text": [
      "75/75 [==============================] - 0s 2ms/step - loss: 0.6172 - accuracy: 1.0000\n"
     ]
    },
    {
     "data": {
      "text/plain": "[0.6171808838844299, 1.0]"
     },
     "execution_count": 28,
     "metadata": {},
     "output_type": "execute_result"
    }
   ],
   "source": [
    "model.evaluate(X_test, Y_test)"
   ]
  },
  {
   "cell_type": "code",
   "execution_count": 29,
   "id": "354533d2-cff0-41c4-8fc7-f769f1339daf",
   "metadata": {},
   "outputs": [
    {
     "data": {
      "text/plain": "2"
     },
     "execution_count": 29,
     "metadata": {},
     "output_type": "execute_result"
    }
   ],
   "source": [
    "predicted_results = model.predict(np.array([0,1,1,1,0,1,0,0,0,1,1,0,0,0,1,0,0,0,1,0,0,0,1,0,0,0,1,0,0,0,1,1,1,1,1]).reshape(1,-1), batch_size=128)\n",
    "predicted_results.argmax()"
   ]
  },
  {
   "cell_type": "code",
   "execution_count": null,
   "id": "2a7f4d3f-058c-4987-803e-b51f85bc96ec",
   "metadata": {},
   "outputs": [],
   "source": []
  }
 ],
 "metadata": {
  "kernelspec": {
   "display_name": "Python 3 (ipykernel)",
   "language": "python",
   "name": "python3"
  },
  "language_info": {
   "codemirror_mode": {
    "name": "ipython",
    "version": 3
   },
   "file_extension": ".py",
   "mimetype": "text/x-python",
   "name": "python",
   "nbconvert_exporter": "python",
   "pygments_lexer": "ipython3",
   "version": "3.9.12"
  }
 },
 "nbformat": 4,
 "nbformat_minor": 5
}